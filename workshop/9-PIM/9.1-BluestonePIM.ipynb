{
 "cells": [
  {
   "cell_type": "markdown",
   "metadata": {},
   "source": [
    "# Product Information Management with Bluestone PIM"
   ]
  },
  {
   "attachments": {},
   "cell_type": "markdown",
   "metadata": {},
   "source": [
    "1. Load data (Import API)\n",
    "2. connect DAM?\n",
    "3. replace service\n",
    "4. test ui"
   ]
  },
  {
   "attachments": {},
   "cell_type": "markdown",
   "metadata": {},
   "source": [
    "# Create Account\n",
    "\n",
    "Create Bluestone PIM test account   "
   ]
  },
  {
   "attachments": {},
   "cell_type": "markdown",
   "metadata": {},
   "source": [
    "# Load Data"
   ]
  },
  {
   "attachments": {},
   "cell_type": "markdown",
   "metadata": {},
   "source": [
    "Parse categories.yaml?, create a catalog (root) and a category via MAPI"
   ]
  },
  {
   "cell_type": "code",
   "execution_count": null,
   "metadata": {},
   "outputs": [],
   "source": [
    "import yaml\n",
    "import requests\n",
    "\n",
    "# Bluestone PIM Management API Test Endpoints\n",
    "cn_url = \"https://mapi.test.bluestonepim.com/pim/catalogs/nodes?validation=NAME\"\n",
    "cna_url = \"https://mapi.test.bluestonepim.com/pim/catalogs/nodes/id/attributes/attributeDefinitionId?forceCla=false\"\n",
    "\n",
    "headers = {\n",
    "    \"accept\": \"application/json\",\n",
    "    \"content-type\": \"application/json\",\n",
    "    \"api-key\": \"lyXinh2n20TedIGPkbQ5/QZ/WqKfBnP2jD+gOHbAhgBvzOOZ6FZm9JfdJJ97n4fb\"\n",
    "}\n",
    "\n",
    "# Create root node\n",
    "payload = {\n",
    "    \"name\": \"catalog\",\n",
    "}\n",
    "response = requests.post(cn_url, json=payload, headers=headers)\n",
    "\n",
    "# Parse yaml file\n",
    "with open(\"./data/categories.yaml\", \"r\") as f:\n",
    "    data = yaml.safe_load(f)\n",
    "    \n",
    "# Create categories nodes under root\n",
    "for item in data:\n",
    "    # Create category node\n",
    "    cn_payload = {\n",
    "        \"name\": item[\"name\"],\n",
    "        \"number\": item[\"id\"],\n",
    "        \"parentId\": \"catalog\"\n",
    "    }\n",
    "    response = requests.post(cn_url, json=cn_payload, headers=headers)\n",
    "    print(response.text)\n",
    "\n",
    "    # Add category level attributes\n",
    "    cna_payload = {\n",
    "        \"name\": \"string\",\n",
    "        \"number\": \"string\",\n",
    "        \"parentId\": \"catalog\"\n",
    "    }\n",
    "    response = requests.post(cna_url, json=cna_payload, headers=headers)\n",
    "    print(response.text)"
   ]
  },
  {
   "attachments": {},
   "cell_type": "markdown",
   "metadata": {},
   "source": [
    "Parse products.yaml, for each product call MAPI"
   ]
  },
  {
   "cell_type": "code",
   "execution_count": null,
   "metadata": {},
   "outputs": [],
   "source": [
    "import requests\n",
    "\n",
    "url = \"https://mapi.bluestonepim.com/pim/products\"\n",
    "\n",
    "payload = {\"categories\": [\"accessories\"]}\n",
    "headers = {\n",
    "    \"accept\": \"application/json\",\n",
    "    \"content-type\": \"application/json\"\n",
    "}\n",
    "\n",
    "response = requests.post(url, json=payload, headers=headers)\n",
    "\n",
    "print(response.text)"
   ]
  }
 ],
 "metadata": {
  "language_info": {
   "name": "python"
  },
  "orig_nbformat": 4
 },
 "nbformat": 4,
 "nbformat_minor": 2
}
